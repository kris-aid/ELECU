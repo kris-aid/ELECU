{
 "cells": [
  {
   "cell_type": "code",
   "execution_count": 1,
   "metadata": {},
   "outputs": [],
   "source": [
    "import pandas as pd\n",
    "import numpy as np\n",
    "import os"
   ]
  },
  {
   "cell_type": "code",
   "execution_count": 2,
   "metadata": {},
   "outputs": [
    {
     "name": "stdout",
     "output_type": "stream",
     "text": [
      "d:\\Open-ELEC\\tests\n"
     ]
    }
   ],
   "source": [
    "print(os.getcwd())"
   ]
  },
  {
   "cell_type": "code",
   "execution_count": 3,
   "metadata": {},
   "outputs": [],
   "source": [
    "\n"
   ]
  },
  {
   "cell_type": "code",
   "execution_count": 4,
   "metadata": {},
   "outputs": [],
   "source": [
    "def find_row(df, column, value):\n",
    "    '''\n",
    "    Encuentra la fila en un DataFrame que coincide con un valor específico en una columna.\n",
    "    \n",
    "    Parameters\n",
    "    ----------\n",
    "        - df: DataFrame\n",
    "            DataFrame con los datos a procesar.\n",
    "        - column: str\n",
    "            Nombre de la columna en la que buscar el valor.\n",
    "        - value: str\n",
    "            Valor a buscar en la columna.\n",
    "    \n",
    "    Returns\n",
    "    -------\n",
    "        - row: Series\n",
    "            Fila que coincide con el valor especificado.\n",
    "    \n",
    "    Examples\n",
    "    --------\n",
    "    find_row(df, 'PARROQUIA_NOMBRE', 'SAN ANTONIO')\n",
    "    '''\n",
    "    rows = df[df[column] == value]\n",
    "    return rows\n"
   ]
  },
  {
   "cell_type": "code",
   "execution_count": 20,
   "metadata": {},
   "outputs": [
    {
     "name": "stdout",
     "output_type": "stream",
     "text": [
      "Number of unique values in the column: 1162\n",
      "(1161, 8)\n"
     ]
    }
   ],
   "source": [
    "df_results_2002=pd.read_csv(\"test_results/test_2002.csv\")\n",
    "df_votaciones_2002=pd.read_csv(\"test_results/test_2002_votacion.csv\")\n",
    "# Using nunique() method\n",
    "num_unique_values = df_results_2002['PARROQUIA_CODIGO'].nunique()\n",
    "#extraer dataframe con DIGNIDAD_CODIGO=6.0\n",
    "df_results_vocales = df_results_2002[df_results_2002['DIGNIDAD_CODIGO'] == 8]\n",
    "num_unique_values_7 = df_results_vocales['PARROQUIA_CODIGO'].nunique()\n",
    "print(\"Number of unique values in the column:\", num_unique_values_7)\n",
    "\n",
    "#Extract the the rows of the same DIGNIDAD_CODIGO\n",
    "df_1=find_row(df_votaciones_2002, 'SEXO', 'S1')\n",
    "\n",
    "#print(df_1)\n",
    "df2=find_row(df_1,'DIGNIDAD_CODIGO', 8 )\n",
    "#print(df2)\n",
    "df_3=find_row(df2, \"ANIO\", \"2002_v_1\")\n",
    "print(df_3.shape)"
   ]
  },
  {
   "cell_type": "code",
   "execution_count": 17,
   "metadata": {},
   "outputs": [
    {
     "name": "stdout",
     "output_type": "stream",
     "text": [
      "Number of unique values in the column: 1241\n",
      "(1241, 8)\n"
     ]
    }
   ],
   "source": [
    "df_results_2006=pd.read_csv(\"test_results/test_2006.csv\")\n",
    "df_votaciones_2006=pd.read_csv(\"test_results/test_2006_votacion.csv\")\n",
    "# Using nunique() method\n",
    "num_unique_values = df_results_2006['PARROQUIA_CODIGO'].nunique()\n",
    "#extraer dataframe con DIGNIDAD_CODIGO=6.0\n",
    "df_results_vocales = df_results_2006[df_results_2006['DIGNIDAD_CODIGO'] == 1]\n",
    "num_unique_values_7 = df_results_vocales['PARROQUIA_CODIGO'].nunique()\n",
    "print(\"Number of unique values in the column:\", num_unique_values_7)\n",
    "\n",
    "#Extract the the rows of the same DIGNIDAD_CODIGO\n",
    "df_1=find_row(df_votaciones_2006, 'SEXO', 'S0')\n",
    "\n",
    "#print(df_1)\n",
    "df2=find_row(df_1,'DIGNIDAD_CODIGO', 1 )\n",
    "#print(df2)\n",
    "df_3=find_row(df2, \"ANIO\", \"2006_v_1\")\n",
    "print(df_3.shape)"
   ]
  },
  {
   "cell_type": "code",
   "execution_count": 15,
   "metadata": {},
   "outputs": [
    {
     "name": "stdout",
     "output_type": "stream",
     "text": [
      "Number of unique values in the column: 1248\n",
      "(1248, 8)\n"
     ]
    }
   ],
   "source": [
    "df_results_2009=pd.read_csv(\"test_results/test_2009.csv\")\n",
    "df_votaciones_2009=pd.read_csv(\"test_results/test_2009_votacion.csv\")\n",
    "# Using nunique() method\n",
    "num_unique_values = df_results_2009['PARROQUIA_CODIGO'].nunique()\n",
    "#extraer dataframe con DIGNIDAD_CODIGO=6.0\n",
    "df_results_vocales = df_results_2009[df_results_2009['DIGNIDAD_CODIGO'] == 1]\n",
    "num_unique_values_7 = df_results_vocales['PARROQUIA_CODIGO'].nunique()\n",
    "print(\"Number of unique values in the column:\", num_unique_values_7)\n",
    "\n",
    "#Extract the the rows of the same DIGNIDAD_CODIGO\n",
    "df_1=find_row(df_votaciones_2009, 'SEXO', 'S1')\n",
    "\n",
    "#print(df_1)\n",
    "df2=find_row(df_1,'DIGNIDAD_CODIGO', 1 )\n",
    "#print(df2)\n",
    "df_3=find_row(df2, \"ANIO\", \"2009_v_1\")\n",
    "print(df_3.shape)"
   ]
  },
  {
   "cell_type": "code",
   "execution_count": 10,
   "metadata": {},
   "outputs": [
    {
     "name": "stdout",
     "output_type": "stream",
     "text": [
      "Number of unique values in the column: 1300\n",
      "(1305, 9)\n"
     ]
    }
   ],
   "source": [
    "# Using nunique() method\n",
    "df_results_2013=pd.read_csv(\"test_results/test_2013.csv\")\n",
    "df_votaciones_2013=pd.read_csv(\"test_results/test_2013_votacion.csv\")\n",
    "num_unique_values = df_results_2013['PARROQUIA_CODIGO'].nunique()\n",
    "#extraer dataframe con DIGNIDAD_CODIGO=6.0\n",
    "df_results_vocales = df_results_2013[df_results_2013['DIGNIDAD_CODIGO'] == 1]\n",
    "num_unique_values_7 = df_results_vocales['PARROQUIA_CODIGO'].nunique()\n",
    "print(\"Number of unique values in the column:\", num_unique_values_7)\n",
    "\n",
    "#Extract the the rows of the same DIGNIDAD_CODIGO\n",
    "df_1=find_row(df_votaciones_2013, 'SEXO', 'S0')\n",
    "\n",
    "#print(df_1)\n",
    "df2=find_row(df_1,'DIGNIDAD_CODIGO', 1 )\n",
    "#print(df2)\n",
    "df_3=find_row(df2, \"ANIO\", \"2013_v_1\")\n",
    "print(df_3.shape)"
   ]
  },
  {
   "cell_type": "code",
   "execution_count": 18,
   "metadata": {},
   "outputs": [
    {
     "name": "stdout",
     "output_type": "stream",
     "text": [
      "Number of unique values in the column: 1299\n",
      "(1307, 11)\n"
     ]
    }
   ],
   "source": [
    "# Using nunique() method\n",
    "df_results_2021=pd.read_csv(\"test_results/test_2021.csv\")\n",
    "df_votaciones_2021=pd.read_csv(\"test_results/test_2021_votacion.csv\")\n",
    "num_unique_values = df_results_2021['PARROQUIA_CODIGO'].nunique()\n",
    "#extraer dataframe con DIGNIDAD_CODIGO=6.0\n",
    "df_results_vocales = df_results_2021[df_results_2021['DIGNIDAD_CODIGO'] == 1]\n",
    "num_unique_values_7 = df_results_vocales['PARROQUIA_CODIGO'].nunique()\n",
    "print(\"Number of unique values in the column:\", num_unique_values_7)\n",
    "\n",
    "#Extract the the rows of the same DIGNIDAD_CODIGO\n",
    "df_1=find_row(df_votaciones_2021, 'SEXO', 'S0')\n",
    "\n",
    "#print(df_1)\n",
    "df2=find_row(df_1,'DIGNIDAD_CODIGO', 1 )\n",
    "#print(df2)\n",
    "df_3=find_row(df2, \"ANIO\", \"2021_v_2\")\n",
    "print(df_3.shape)\n",
    "#df_3.to_csv(\"test_results/test_2021_vocales.csv\", index=False)"
   ]
  }
 ],
 "metadata": {
  "kernelspec": {
   "display_name": "data_mining-Nn3RYlhA-py3.11",
   "language": "python",
   "name": "python3"
  },
  "language_info": {
   "codemirror_mode": {
    "name": "ipython",
    "version": 3
   },
   "file_extension": ".py",
   "mimetype": "text/x-python",
   "name": "python",
   "nbconvert_exporter": "python",
   "pygments_lexer": "ipython3",
   "version": "3.11.0"
  }
 },
 "nbformat": 4,
 "nbformat_minor": 2
}
